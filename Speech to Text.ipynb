{
 "cells": [
  {
   "cell_type": "code",
   "execution_count": 4,
   "id": "8b0a1abf",
   "metadata": {},
   "outputs": [
    {
     "name": "stderr",
     "output_type": "stream",
     "text": [
      "WARNING: Ignoring invalid distribution ~atplotlib (C:\\Users\\nithi\\AppData\\Local\\Programs\\Python\\Python312\\Lib\\site-packages)\n",
      "WARNING: Ignoring invalid distribution ~atplotlib (C:\\Users\\nithi\\AppData\\Local\\Programs\\Python\\Python312\\Lib\\site-packages)\n",
      "WARNING: Ignoring invalid distribution ~atplotlib (C:\\Users\\nithi\\AppData\\Local\\Programs\\Python\\Python312\\Lib\\site-packages)\n",
      "\n",
      "[notice] A new release of pip is available: 25.0.1 -> 25.1.1\n",
      "[notice] To update, run: python.exe -m pip install --upgrade pip\n",
      "c:\\Users\\nithi\\AppData\\Local\\Programs\\Python\\Python312\\Lib\\site-packages\\whisper\\__init__.py:150: FutureWarning: You are using `torch.load` with `weights_only=False` (the current default value), which uses the default pickle module implicitly. It is possible to construct malicious pickle data which will execute arbitrary code during unpickling (See https://github.com/pytorch/pytorch/blob/main/SECURITY.md#untrusted-models for more details). In a future release, the default value for `weights_only` will be flipped to `True`. This limits the functions that could be executed during unpickling. Arbitrary objects will no longer be allowed to be loaded via this mode unless they are explicitly allowlisted by the user via `torch.serialization.add_safe_globals`. We recommend you start setting `weights_only=True` for any use case where you don't have full control of the loaded file. Please open an issue on GitHub for any issues related to this experimental feature.\n",
      "  checkpoint = torch.load(fp, map_location=device)\n"
     ]
    },
    {
     "name": "stdout",
     "output_type": "stream",
     "text": [
      "✅ Whisper model loaded.\n"
     ]
    }
   ],
   "source": [
    "# 📦 Step 1: Install required libraries (Run once)\n",
    "!pip install -q openai-whisper sounddevice scipy\n",
    "\n",
    "import whisper\n",
    "import sounddevice as sd\n",
    "import numpy as np\n",
    "import scipy.io.wavfile as wav\n",
    "import time\n",
    "import os\n",
    "\n",
    "# 🎯 Step 2: Load Whisper Model\n",
    "model = whisper.load_model(\"small\")  # You can use \"tiny\", \"medium\", or \"large\"\n",
    "print(\"✅ Whisper model loaded.\")\n"
   ]
  },
  {
   "cell_type": "code",
   "execution_count": 5,
   "id": "f58c04ca",
   "metadata": {},
   "outputs": [],
   "source": [
    "# 🎤 Step 3: Function to Record from Microphone\n",
    "\n",
    "def record_audio(filename=\"output.wav\", duration=10, samplerate=16000):\n",
    "    print(f\"🎙️ Recording for {duration} seconds...\")\n",
    "\n",
    "    audio = sd.rec(int(samplerate * duration), samplerate=samplerate, channels=1, dtype='float32')\n",
    "    sd.wait()\n",
    "\n",
    "    # Convert to int16 for saving\n",
    "    audio_int16 = np.int16(audio * 32767)\n",
    "    wav.write(filename, samplerate, audio_int16)\n",
    "    print(\"✅ Recording complete and saved.\")\n"
   ]
  },
  {
   "cell_type": "code",
   "execution_count": 11,
   "id": "13341a15",
   "metadata": {},
   "outputs": [
    {
     "name": "stdout",
     "output_type": "stream",
     "text": [
      "🎙️ Recording for 5 seconds...\n",
      "✅ Recording complete and saved.\n"
     ]
    }
   ],
   "source": [
    "# ▶️ Step 4: Record Audio (you can change duration as needed)\n",
    "record_audio(\"speech.wav\", duration=5)  # Record for 15 seconds\n"
   ]
  },
  {
   "cell_type": "code",
   "execution_count": 12,
   "id": "2ba83d86",
   "metadata": {},
   "outputs": [
    {
     "name": "stdout",
     "output_type": "stream",
     "text": [
      "🔍 Transcribing audio...\n",
      "\n",
      "📝 Detected Language: en\n",
      "📜 Transcription Output:\n",
      "\n",
      " It's a sample speech for text to speech speech to text.\n"
     ]
    }
   ],
   "source": [
    "# 🧠 Step 5: Transcribe with Whisper\n",
    "\n",
    "def transcribe_audio_whisper(filepath=\"speech.wav\"):\n",
    "    print(\"🔍 Transcribing audio...\")\n",
    "    result = model.transcribe(filepath)\n",
    "    print(\"\\n📝 Detected Language:\", result[\"language\"])\n",
    "    print(\"📜 Transcription Output:\\n\")\n",
    "    print(result[\"text\"])\n",
    "\n",
    "# Run the transcription\n",
    "transcribe_audio_whisper(\"speech.wav\")\n"
   ]
  }
 ],
 "metadata": {
  "kernelspec": {
   "display_name": "Python 3",
   "language": "python",
   "name": "python3"
  },
  "language_info": {
   "codemirror_mode": {
    "name": "ipython",
    "version": 3
   },
   "file_extension": ".py",
   "mimetype": "text/x-python",
   "name": "python",
   "nbconvert_exporter": "python",
   "pygments_lexer": "ipython3",
   "version": "3.12.2"
  }
 },
 "nbformat": 4,
 "nbformat_minor": 5
}
